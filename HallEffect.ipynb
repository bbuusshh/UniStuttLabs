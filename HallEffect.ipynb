{
 "cells": [
  {
   "cell_type": "markdown",
   "metadata": {},
   "source": [
    "# Hall Effect"
   ]
  },
  {
   "cell_type": "markdown",
   "metadata": {},
   "source": [
    "### As it turns out its classical Hall Effect..."
   ]
  },
  {
   "cell_type": "markdown",
   "metadata": {},
   "source": [
    "## Content:\n",
    "\n",
    "### Theory:\n",
    "-- Bandstructure of a semiconductor (SC) (Vlad)\n",
    "\n",
    "-- Transport in SC (Vlad)\n",
    "\n",
    "-- Charge carrier mobility in an electron gas (Vlad)\n",
    "\n",
    "-- Scattering and relaxation (Sam)\n",
    "\n",
    "-- Doping (Sam)\n",
    "\n",
    "-- Magneto-transport and Hall-Effect (Sam)\n",
    "\n",
    "### Experiment:\n",
    "-- Setup description\n",
    "\n",
    "### Data analysis:\n",
    "1). Calculate the Hall coefficient RH, the density of the charge carriers, the Drift velocity and the mobility of the holes from the data obtained under 1) and 2)\n",
    "\n",
    "2). Explain the in 5) measured temperature dependence of the voltage drop and determine the bandgap Eg of Germanium.\n",
    "\n",
    "3). Explain the under 4) measured temperature dependent conductivity of the p-doped crystal. Why does the resistance increase first, can you make an estimation of the activation energy Ea of the holes? Determine the bandgap Eg from the data measured under 4).\n",
    "\n",
    "4). Deduce an expression for the temperature dependency of the Hall voltage\n",
    "\n",
    "5). Fit with this expression the under 3) measured temperature dependence of UH. Use the under 2) obtained bandgap Eg and the under 1) obtained carrier density of the holes. From the fit the effective density of states N0 and the ratio of the hole to the electron mobility μn/μp can be determined. Explain the obtained result. Why does it increase first, which condition must be fulfilled at the zero crossing? Why does UH go to zero for high temperatures?"
   ]
  },
  {
   "cell_type": "markdown",
   "metadata": {},
   "source": [
    "# Experimental tasks\n"
   ]
  },
  {
   "cell_type": "code",
   "execution_count": 1,
   "metadata": {},
   "outputs": [],
   "source": [
    "import pandas as pd\n",
    "from matplotlib import pyplot as plt\n",
    "import numpy as np"
   ]
  },
  {
   "cell_type": "markdown",
   "metadata": {},
   "source": [
    "## p-doped Germanium:"
   ]
  },
  {
   "cell_type": "markdown",
   "metadata": {},
   "source": [
    "1). Measure the Hall voltage UH at 3 different magnetic field strength (50mT, 100mT, 200mT) against the current I between 0 and 30mA"
   ]
  },
  {
   "cell_type": "code",
   "execution_count": null,
   "metadata": {},
   "outputs": [],
   "source": []
  },
  {
   "cell_type": "markdown",
   "metadata": {},
   "source": [
    "2). Measure the Hall voltage UH against the magnetic field at 3 different currents (10mA, 20mA, 30mA)"
   ]
  },
  {
   "cell_type": "code",
   "execution_count": null,
   "metadata": {},
   "outputs": [],
   "source": []
  },
  {
   "cell_type": "markdown",
   "metadata": {},
   "source": [
    "3). Measure the Hall voltage UH at B=200mT and I=30mA against temperature."
   ]
  },
  {
   "cell_type": "code",
   "execution_count": null,
   "metadata": {},
   "outputs": [],
   "source": []
  },
  {
   "cell_type": "markdown",
   "metadata": {},
   "source": [
    "4). Measure the voltage drop U against the temperature at I=30mA"
   ]
  },
  {
   "cell_type": "code",
   "execution_count": null,
   "metadata": {},
   "outputs": [],
   "source": []
  },
  {
   "cell_type": "markdown",
   "metadata": {},
   "source": [
    "## Undoped Germanium"
   ]
  },
  {
   "cell_type": "markdown",
   "metadata": {},
   "source": [
    "5) Measure the voltage drop U at constant current I=2mA against the temperature"
   ]
  },
  {
   "cell_type": "code",
   "execution_count": null,
   "metadata": {},
   "outputs": [],
   "source": []
  },
  {
   "cell_type": "code",
   "execution_count": null,
   "metadata": {},
   "outputs": [],
   "source": []
  }
 ],
 "metadata": {
  "kernelspec": {
   "display_name": "Python 3",
   "language": "python",
   "name": "python3"
  },
  "language_info": {
   "codemirror_mode": {
    "name": "ipython",
    "version": 3
   },
   "file_extension": ".py",
   "mimetype": "text/x-python",
   "name": "python",
   "nbconvert_exporter": "python",
   "pygments_lexer": "ipython3",
   "version": "3.6.5"
  }
 },
 "nbformat": 4,
 "nbformat_minor": 2
}
