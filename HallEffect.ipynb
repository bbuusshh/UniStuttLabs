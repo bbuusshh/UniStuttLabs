{
 "cells": [
  {
   "cell_type": "markdown",
   "metadata": {},
   "source": [
    "# Hall Effect"
   ]
  },
  {
   "cell_type": "markdown",
   "metadata": {},
   "source": [
    "### As it turns out its classical Hall Effect..."
   ]
  },
  {
   "cell_type": "markdown",
   "metadata": {},
   "source": [
    "## Content:\n",
    "\n",
    "### Theory:\n",
    "\n",
    "semiconductors like definition, band gap formation, ... ; \n",
    "electron mobility definition, \n",
    "main scattering processes and dependence on the temperature, \n",
    "doping; \n",
    "Hall effect and main parameters\n",
    "\n",
    "\n",
    "\n",
    "-- Bandstructure of a semiconductor (SC) (Vlad)\n",
    "\n",
    "A separate atom has a descrete energetic spectrum, however if an ansamble of atoms is taken into consideration the electrons do not belong to an atom but to the crystall itself. In a crystall the electronic wavefunction can be described by Bloch waves: \n",
    "\n",
    "$\\psi(\\mathbf{r})=e^{i \\mathbf{k} \\mathbf{r}} u_{\\mathbf{k}}(\\mathbf{r})$\n",
    ",where $u_{\\mathbf{k}}(\\mathbf{r})$ has the period of the crystal lattice with $u_{\\mathbf{k}}(\\mathbf{r})$ 􏰊 = $u_{\\mathbf{k}}(\\mathbf{r + T})$\n",
    "\n",
    "-- Transport in SC (Vlad)\n",
    "\n",
    "-- Charge carrier mobility in an electron gas (Vlad)\n",
    "\n",
    "-- Scattering and relaxation (Sam)\n",
    "\n",
    "-- Doping (Sam)\n",
    "\n",
    "-- Magneto-transport and Hall-Effect (Sam)\n",
    "\n",
    "### Experiment:\n",
    "-- Setup description\n",
    "\n",
    "### Data analysis:\n",
    "1). Calculate the Hall coefficient RH, the density of the charge carriers, the Drift velocity and the mobility of the holes from the data obtained under 1) and 2)\n",
    "\n",
    "2). Explain the in 5) measured temperature dependence of the voltage drop and determine the bandgap Eg of Germanium.\n",
    "\n",
    "3). Explain the under 4) measured temperature dependent conductivity of the p-doped crystal. Why does the resistance increase first, can you make an estimation of the activation energy Ea of the holes? Determine the bandgap Eg from the data measured under 4).\n",
    "\n",
    "4). Deduce an expression for the temperature dependency of the Hall voltage\n",
    "\n",
    "5). Fit with this expression the under 3) measured temperature dependence of UH. Use the under 2) obtained bandgap Eg and the under 1) obtained carrier density of the holes. From the fit the effective density of states N0 and the ratio of the hole to the electron mobility μn/μp can be determined. Explain the obtained result. Why does it increase first, which condition must be fulfilled at the zero crossing? Why does UH go to zero for high temperatures?"
   ]
  },
  {
   "cell_type": "markdown",
   "metadata": {},
   "source": [
    "### -- Bandstructure of a semiconductor (SC) (Vlad)\n",
    "\n",
    "A separate atom has a descrete energetic spectrum, however if an ansamble of atoms is taken into consideration the electrons do not belong to an atom but to the crystall itself. In a crystall the electronic wavefunction can be described by Bloch waves: \n",
    "\n",
    "$\\psi(\\mathbf{r})=e^{i \\mathbf{k} \\mathbf{r}} u_{\\mathbf{k}}(\\mathbf{r})$\n",
    ",where $u_{\\mathbf{k}}(\\mathbf{r})$ has the period of the crystal lattice with $u_{\\mathbf{k}}(\\mathbf{r})$ 􏰊 = $u_{\\mathbf{k}}(\\mathbf{r + T})$. This also implyes that $\\psi_{\\boldsymbol{k}+\\boldsymbol{G}}(\\boldsymbol{r})=\\psi_{\\boldsymbol{k}}(\\boldsymbol{r})$ and $E(\\boldsymbol{k})=E(\\boldsymbol{k}+\\boldsymbol{G})$.\n",
    "\n",
    "At the edge of the Brillouine zone two waves could be considered non-vanishing:\n",
    "$\\psi_{k} = e^{i\\frac{G}{2}r}$ and $\\psi_{k - G} = e^{i(\\frac{G}{2} - G)r} = e^{-i\\frac{G}{2}r}$,\n",
    "thus considering the ansatz: $\\psi(r) = \\sum\\limits_{k} C_k e^{ikr}$ one receives two approximate solutions $\\psi_{+} \\sim\\left(\\mathrm{e}^{\\mathrm{i} G x / 2}+\\mathrm{e}^{-\\mathrm{i} G x / 2}\\right) \\sim \\cos \\pi \\frac{x}{a}$ and $\\psi_{-} \\sim\\left(\\mathrm{e}^{\\mathrm{i} G x / 2}-\\mathrm{e}^{-\\mathrm{i} G x / 2}\\right) \\sim \\sin \\pi \\frac{x}{a}$, which represent the two standing waves as a result of superposition of propagating plane wave and Bragg-reflected counter propagating wave.\n",
    "The resulting pictures is presented on the Fig.[a]. As one can see, the probability density correspondent to the standing wave solutions have either minimas between the cores or maximas. The state with maximas at the cores, apparently has less energy, than the one with maximas in between. This discrepancy leads to an existence of energy bandgaps in nearly free approximation. \n",
    "\n",
    "In case of a less dense material, when the distance between atoms is sufficiently large, such that electrons can be considered localized at the cores the tight binding approximation is used in order"
   ]
  },
  {
   "cell_type": "markdown",
   "metadata": {},
   "source": [
    "# Experimental tasks\n"
   ]
  },
  {
   "cell_type": "code",
   "execution_count": 1,
   "metadata": {},
   "outputs": [],
   "source": [
    "import pandas as pd\n",
    "from matplotlib import pyplot as plt\n",
    "import numpy as np\n",
    "\n",
    "from stuff import plotter"
   ]
  },
  {
   "cell_type": "code",
   "execution_count": 2,
   "metadata": {},
   "outputs": [],
   "source": [
    "folder = \"/Users/vladislavbushmakin/GoogleDisk/PhysicsMasters/AdvancedPhysicsLabs/UniStuttLabs/data/\""
   ]
  },
  {
   "cell_type": "code",
   "execution_count": 3,
   "metadata": {},
   "outputs": [],
   "source": [
    "data = pd.read_csv(folder + \"example.csv\")"
   ]
  },
  {
   "cell_type": "code",
   "execution_count": 4,
   "metadata": {},
   "outputs": [],
   "source": [
    "x = data[data.columns[0]]\n",
    "y = data[data.columns[1]]\n",
    "errorX = 0\n",
    "errorY = np.sqrt(len(y)) #errorY = $\\sigma = \\frac{1}{\\sqrt{N}}$\n",
    "xLabel = r'x axis, $cm^{-1}$'\n",
    "yLabel = r'y axis, $\\rho$, $\\Omega$'\n",
    "plotName = \"ExamplePlot\""
   ]
  },
  {
   "cell_type": "code",
   "execution_count": 16,
   "metadata": {},
   "outputs": [
    {
     "data": {
      "image/png": "[encoded data removed]",
      "text/plain": [
       "<Figure size 720x360 with 1 Axes>"
      ]
     },
     "metadata": {},
     "output_type": "display_data"
    }
   ],
   "source": [
    "fig, ax = plotter.simplePlot(x, y, errorX, errorY, xLabel, yLabel, plotName)"
   ]
  },
  {
   "cell_type": "markdown",
   "metadata": {},
   "source": [
    "## p-doped Germanium:"
   ]
  },
  {
   "cell_type": "markdown",
   "metadata": {},
   "source": [
    "1). Measure the Hall voltage UH at 3 different magnetic field strength (50mT, 100mT, 200mT) against the current I between 0 and 30mA"
   ]
  },
  {
   "cell_type": "code",
   "execution_count": null,
   "metadata": {},
   "outputs": [],
   "source": []
  },
  {
   "cell_type": "markdown",
   "metadata": {},
   "source": [
    "2). Measure the Hall voltage UH against the magnetic field at 3 different currents (10mA, 20mA, 30mA)"
   ]
  },
  {
   "cell_type": "code",
   "execution_count": null,
   "metadata": {},
   "outputs": [],
   "source": []
  },
  {
   "cell_type": "markdown",
   "metadata": {},
   "source": [
    "3). Measure the Hall voltage UH at B=200mT and I=30mA against temperature."
   ]
  },
  {
   "cell_type": "code",
   "execution_count": null,
   "metadata": {},
   "outputs": [],
   "source": []
  },
  {
   "cell_type": "markdown",
   "metadata": {},
   "source": [
    "4). Measure the voltage drop U against the temperature at I=30mA"
   ]
  },
  {
   "cell_type": "code",
   "execution_count": null,
   "metadata": {},
   "outputs": [],
   "source": []
  },
  {
   "cell_type": "markdown",
   "metadata": {},
   "source": [
    "## Undoped Germanium"
   ]
  },
  {
   "cell_type": "markdown",
   "metadata": {},
   "source": [
    "5) Measure the voltage drop U at constant current I=2mA against the temperature"
   ]
  },
  {
   "cell_type": "code",
   "execution_count": null,
   "metadata": {},
   "outputs": [],
   "source": []
  },
  {
   "cell_type": "code",
   "execution_count": null,
   "metadata": {},
   "outputs": [],
   "source": []
  }
 ],
 "metadata": {
  "kernelspec": {
   "display_name": "Python 3",
   "language": "python",
   "name": "python3"
  },
  "language_info": {
   "codemirror_mode": {
    "name": "ipython",
    "version": 3
   },
   "file_extension": ".py",
   "mimetype": "text/x-python",
   "name": "python",
   "nbconvert_exporter": "python",
   "pygments_lexer": "ipython3",
   "version": "3.6.5"
  }
 },
 "nbformat": 4,
 "nbformat_minor": 2
}
